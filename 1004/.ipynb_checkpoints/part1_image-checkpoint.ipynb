{
 "cells": [
  {
   "cell_type": "code",
   "execution_count": 50,
   "metadata": {
    "collapsed": false
   },
   "outputs": [
    {
     "data": {
      "text/html": [
       "<div>\n",
       "<table border=\"1\" class=\"dataframe\">\n",
       "  <thead>\n",
       "    <tr style=\"text-align: right;\">\n",
       "      <th></th>\n",
       "      <th>Boroughs</th>\n",
       "      <th>No_of_Crimes</th>\n",
       "    </tr>\n",
       "  </thead>\n",
       "  <tbody>\n",
       "    <tr>\n",
       "      <th>0</th>\n",
       "      <td>BROOKLYN</td>\n",
       "      <td>1519977</td>\n",
       "    </tr>\n",
       "    <tr>\n",
       "      <th>1</th>\n",
       "      <td>BRONX</td>\n",
       "      <td>1099764</td>\n",
       "    </tr>\n",
       "    <tr>\n",
       "      <th>2</th>\n",
       "      <td>QUEENS</td>\n",
       "      <td>1006878</td>\n",
       "    </tr>\n",
       "    <tr>\n",
       "      <th>3</th>\n",
       "      <td>STATEN ISLAND</td>\n",
       "      <td>242806</td>\n",
       "    </tr>\n",
       "    <tr>\n",
       "      <th>4</th>\n",
       "      <td>MANHATTAN</td>\n",
       "      <td>1211935</td>\n",
       "    </tr>\n",
       "  </tbody>\n",
       "</table>\n",
       "</div>"
      ],
      "text/plain": [
       "        Boroughs  No_of_Crimes\n",
       "0       BROOKLYN       1519977\n",
       "1          BRONX       1099764\n",
       "2         QUEENS       1006878\n",
       "3  STATEN ISLAND        242806\n",
       "4      MANHATTAN       1211935"
      ]
     },
     "execution_count": 50,
     "metadata": {},
     "output_type": "execute_result"
    }
   ],
   "source": [
    "import pandas as pd\n",
    "data1 = pd.read_csv(\"r1.out\", sep =\"\\t\",header =None, names =['Boroughs','No_of_Crimes'])\n",
    "\n",
    "data1"
   ]
  },
  {
   "cell_type": "code",
   "execution_count": 51,
   "metadata": {
    "collapsed": false
   },
   "outputs": [
    {
     "data": {
      "image/png": "[encoded data removed]",
      "text/plain": [
       "<matplotlib.figure.Figure at 0x1b020bf7748>"
      ]
     },
     "metadata": {},
     "output_type": "display_data"
    }
   ],
   "source": [
    "import matplotlib.pyplot as plt\n",
    " \n",
    "# Data to plot\n",
    "\n",
    "labels =tuple(data1[data1.columns[0]])\n",
    "sizes = list(data1[data1.columns[1]])\n",
    "colors = ['gold','red', 'yellowgreen', 'lightcoral', 'lightskyblue']\n",
    "explode = (0.1, 0, 0, 0,0)  # explode 1st slice\n",
    " \n",
    "# Plot\n",
    "plt.pie(sizes, explode=explode, labels=labels, colors=colors,\n",
    "        autopct='%1.1f%%', shadow=True, startangle=140)\n",
    " \n",
    "plt.axis('equal')\n",
    "plt.title(\"Crimes happened in 5 boroughs\")\n",
    "plt.show()"
   ]
  },
  {
   "cell_type": "code",
   "execution_count": 91,
   "metadata": {
    "collapsed": false
   },
   "outputs": [
    {
     "name": "stderr",
     "output_type": "stream",
     "text": [
      "C:\\Users\\sherryyang\\Anaconda3\\lib\\site-packages\\ipykernel\\__main__.py:2: FutureWarning: sort(columns=....) is deprecated, use sort_values(by=.....)\n",
      "  from ipykernel import kernelapp as app\n"
     ]
    },
    {
     "data": {
      "text/html": [
       "<div>\n",
       "<table border=\"1\" class=\"dataframe\">\n",
       "  <thead>\n",
       "    <tr style=\"text-align: right;\">\n",
       "      <th></th>\n",
       "      <th>Crime_types</th>\n",
       "      <th>NO_of_Crimes</th>\n",
       "    </tr>\n",
       "  </thead>\n",
       "  <tbody>\n",
       "    <tr>\n",
       "      <th>36</th>\n",
       "      <td>PETIT LARCENY</td>\n",
       "      <td>820238</td>\n",
       "    </tr>\n",
       "    <tr>\n",
       "      <th>44</th>\n",
       "      <td>HARRASSMENT 2</td>\n",
       "      <td>602769</td>\n",
       "    </tr>\n",
       "    <tr>\n",
       "      <th>18</th>\n",
       "      <td>ASSAULT 3 &amp; RELATED OFFENSES</td>\n",
       "      <td>521018</td>\n",
       "    </tr>\n",
       "    <tr>\n",
       "      <th>58</th>\n",
       "      <td>CRIMINAL MISCHIEF &amp; RELATED OF</td>\n",
       "      <td>504925</td>\n",
       "    </tr>\n",
       "    <tr>\n",
       "      <th>40</th>\n",
       "      <td>GRAND LARCENY</td>\n",
       "      <td>424851</td>\n",
       "    </tr>\n",
       "    <tr>\n",
       "      <th>59</th>\n",
       "      <td>DANGEROUS DRUGS</td>\n",
       "      <td>348336</td>\n",
       "    </tr>\n",
       "    <tr>\n",
       "      <th>8</th>\n",
       "      <td>OFF. AGNST PUB ORD SENSBLTY &amp;</td>\n",
       "      <td>281604</td>\n",
       "    </tr>\n",
       "    <tr>\n",
       "      <th>26</th>\n",
       "      <td>ROBBERY</td>\n",
       "      <td>198608</td>\n",
       "    </tr>\n",
       "    <tr>\n",
       "      <th>9</th>\n",
       "      <td>BURGLARY</td>\n",
       "      <td>191082</td>\n",
       "    </tr>\n",
       "    <tr>\n",
       "      <th>21</th>\n",
       "      <td>FELONY ASSAULT</td>\n",
       "      <td>183917</td>\n",
       "    </tr>\n",
       "    <tr>\n",
       "      <th>0</th>\n",
       "      <td>DANGEROUS WEAPONS</td>\n",
       "      <td>124176</td>\n",
       "    </tr>\n",
       "    <tr>\n",
       "      <th>37</th>\n",
       "      <td>MISCELLANEOUS PENAL LAW</td>\n",
       "      <td>118491</td>\n",
       "    </tr>\n",
       "    <tr>\n",
       "      <th>4</th>\n",
       "      <td>GRAND LARCENY OF MOTOR VEHICLE</td>\n",
       "      <td>101831</td>\n",
       "    </tr>\n",
       "    <tr>\n",
       "      <th>60</th>\n",
       "      <td>OFFENSES AGAINST PUBLIC ADMINI</td>\n",
       "      <td>100059</td>\n",
       "    </tr>\n",
       "    <tr>\n",
       "      <th>52</th>\n",
       "      <td>INTOXICATED &amp; IMPAIRED DRIVING</td>\n",
       "      <td>73695</td>\n",
       "    </tr>\n",
       "    <tr>\n",
       "      <th>47</th>\n",
       "      <td>CRIMINAL TRESPASS</td>\n",
       "      <td>66501</td>\n",
       "    </tr>\n",
       "    <tr>\n",
       "      <th>34</th>\n",
       "      <td>VEHICLE AND TRAFFIC LAWS</td>\n",
       "      <td>59097</td>\n",
       "    </tr>\n",
       "    <tr>\n",
       "      <th>41</th>\n",
       "      <td>THEFT-FRAUD</td>\n",
       "      <td>53912</td>\n",
       "    </tr>\n",
       "    <tr>\n",
       "      <th>61</th>\n",
       "      <td>SEX CRIMES</td>\n",
       "      <td>53213</td>\n",
       "    </tr>\n",
       "    <tr>\n",
       "      <th>23</th>\n",
       "      <td>FORGERY</td>\n",
       "      <td>48973</td>\n",
       "    </tr>\n",
       "    <tr>\n",
       "      <th>30</th>\n",
       "      <td>FRAUDS</td>\n",
       "      <td>31149</td>\n",
       "    </tr>\n",
       "    <tr>\n",
       "      <th>3</th>\n",
       "      <td>POSSESSION OF STOLEN PROPERTY</td>\n",
       "      <td>29432</td>\n",
       "    </tr>\n",
       "    <tr>\n",
       "      <th>16</th>\n",
       "      <td>OFFENSES INVOLVING FRAUD</td>\n",
       "      <td>17699</td>\n",
       "    </tr>\n",
       "    <tr>\n",
       "      <th>1</th>\n",
       "      <td>ARSON</td>\n",
       "      <td>13914</td>\n",
       "    </tr>\n",
       "    <tr>\n",
       "      <th>17</th>\n",
       "      <td>UNAUTHORIZED USE OF A VEHICLE</td>\n",
       "      <td>13761</td>\n",
       "    </tr>\n",
       "    <tr>\n",
       "      <th>10</th>\n",
       "      <td>RAPE</td>\n",
       "      <td>12986</td>\n",
       "    </tr>\n",
       "    <tr>\n",
       "      <th>48</th>\n",
       "      <td>OFFENSES AGAINST THE PERSON</td>\n",
       "      <td>12324</td>\n",
       "    </tr>\n",
       "    <tr>\n",
       "      <th>67</th>\n",
       "      <td>ADMINISTRATIVE CODE</td>\n",
       "      <td>11360</td>\n",
       "    </tr>\n",
       "    <tr>\n",
       "      <th>69</th>\n",
       "      <td>OTHER OFFENSES RELATED TO THEF</td>\n",
       "      <td>9652</td>\n",
       "    </tr>\n",
       "    <tr>\n",
       "      <th>63</th>\n",
       "      <td>OTHER STATE LAWS (NON PENAL LA</td>\n",
       "      <td>5489</td>\n",
       "    </tr>\n",
       "    <tr>\n",
       "      <th>...</th>\n",
       "      <td>...</td>\n",
       "      <td>...</td>\n",
       "    </tr>\n",
       "    <tr>\n",
       "      <th>35</th>\n",
       "      <td>DISORDERLY CONDUCT</td>\n",
       "      <td>828</td>\n",
       "    </tr>\n",
       "    <tr>\n",
       "      <th>38</th>\n",
       "      <td>OFFENSES AGAINST PUBLIC SAFETY</td>\n",
       "      <td>810</td>\n",
       "    </tr>\n",
       "    <tr>\n",
       "      <th>45</th>\n",
       "      <td>ALCOHOLIC BEVERAGE CONTROL LAW</td>\n",
       "      <td>750</td>\n",
       "    </tr>\n",
       "    <tr>\n",
       "      <th>54</th>\n",
       "      <td>CHILD ABANDONMENT/NON SUPPORT</td>\n",
       "      <td>365</td>\n",
       "    </tr>\n",
       "    <tr>\n",
       "      <th>64</th>\n",
       "      <td>JOSTLING</td>\n",
       "      <td>299</td>\n",
       "    </tr>\n",
       "    <tr>\n",
       "      <th>32</th>\n",
       "      <td>OTHER STATE LAWS</td>\n",
       "      <td>232</td>\n",
       "    </tr>\n",
       "    <tr>\n",
       "      <th>65</th>\n",
       "      <td>LOITERING/GAMBLING (CARDS, DIC</td>\n",
       "      <td>207</td>\n",
       "    </tr>\n",
       "    <tr>\n",
       "      <th>42</th>\n",
       "      <td>ESCAPE 3</td>\n",
       "      <td>167</td>\n",
       "    </tr>\n",
       "    <tr>\n",
       "      <th>2</th>\n",
       "      <td>ENDAN WELFARE INCOMP</td>\n",
       "      <td>143</td>\n",
       "    </tr>\n",
       "    <tr>\n",
       "      <th>24</th>\n",
       "      <td>ANTICIPATORY OFFENSES</td>\n",
       "      <td>95</td>\n",
       "    </tr>\n",
       "    <tr>\n",
       "      <th>28</th>\n",
       "      <td>HOMICIDE-NEGLIGENT-VEHICLE</td>\n",
       "      <td>93</td>\n",
       "    </tr>\n",
       "    <tr>\n",
       "      <th>62</th>\n",
       "      <td>AGRICULTURE &amp; MRKTS LAW-UNCLASSIFIED</td>\n",
       "      <td>83</td>\n",
       "    </tr>\n",
       "    <tr>\n",
       "      <th>22</th>\n",
       "      <td>NEW YORK CITY HEALTH CODE</td>\n",
       "      <td>75</td>\n",
       "    </tr>\n",
       "    <tr>\n",
       "      <th>19</th>\n",
       "      <td>UNLAWFUL POSS. WEAP. ON SCHOOL</td>\n",
       "      <td>59</td>\n",
       "    </tr>\n",
       "    <tr>\n",
       "      <th>31</th>\n",
       "      <td>INTOXICATED/IMPAIRED DRIVING</td>\n",
       "      <td>48</td>\n",
       "    </tr>\n",
       "    <tr>\n",
       "      <th>46</th>\n",
       "      <td>DISRUPTION OF A RELIGIOUS SERV</td>\n",
       "      <td>47</td>\n",
       "    </tr>\n",
       "    <tr>\n",
       "      <th>55</th>\n",
       "      <td>HOMICIDE-NEGLIGENT,UNCLASSIFIE</td>\n",
       "      <td>33</td>\n",
       "    </tr>\n",
       "    <tr>\n",
       "      <th>7</th>\n",
       "      <td>LOITERING FOR DRUG PURPOSES</td>\n",
       "      <td>23</td>\n",
       "    </tr>\n",
       "    <tr>\n",
       "      <th>14</th>\n",
       "      <td>LOITERING</td>\n",
       "      <td>20</td>\n",
       "    </tr>\n",
       "    <tr>\n",
       "      <th>43</th>\n",
       "      <td>ADMINISTRATIVE CODES</td>\n",
       "      <td>18</td>\n",
       "    </tr>\n",
       "    <tr>\n",
       "      <th>56</th>\n",
       "      <td>LOITERING/DEVIATE SEX</td>\n",
       "      <td>16</td>\n",
       "    </tr>\n",
       "    <tr>\n",
       "      <th>57</th>\n",
       "      <td>OTHER TRAFFIC INFRACTION</td>\n",
       "      <td>13</td>\n",
       "    </tr>\n",
       "    <tr>\n",
       "      <th>33</th>\n",
       "      <td>FORTUNE TELLING</td>\n",
       "      <td>11</td>\n",
       "    </tr>\n",
       "    <tr>\n",
       "      <th>39</th>\n",
       "      <td>NYS LAWS-UNCLASSIFIED VIOLATION</td>\n",
       "      <td>6</td>\n",
       "    </tr>\n",
       "    <tr>\n",
       "      <th>51</th>\n",
       "      <td>ABORTION</td>\n",
       "      <td>4</td>\n",
       "    </tr>\n",
       "    <tr>\n",
       "      <th>29</th>\n",
       "      <td>OTHER STATE LAWS (NON PENAL LAW)</td>\n",
       "      <td>4</td>\n",
       "    </tr>\n",
       "    <tr>\n",
       "      <th>25</th>\n",
       "      <td>UNDER THE INFLUENCE OF DRUGS</td>\n",
       "      <td>3</td>\n",
       "    </tr>\n",
       "    <tr>\n",
       "      <th>5</th>\n",
       "      <td>OFFENSES AGAINST MARRIAGE UNCL</td>\n",
       "      <td>3</td>\n",
       "    </tr>\n",
       "    <tr>\n",
       "      <th>66</th>\n",
       "      <td>KIDNAPPING AND RELATED OFFENSES</td>\n",
       "      <td>2</td>\n",
       "    </tr>\n",
       "    <tr>\n",
       "      <th>20</th>\n",
       "      <td>KIDNAPPING</td>\n",
       "      <td>2</td>\n",
       "    </tr>\n",
       "  </tbody>\n",
       "</table>\n",
       "<p>70 rows × 2 columns</p>\n",
       "</div>"
      ],
      "text/plain": [
       "                             Crime_types  NO_of_Crimes\n",
       "36                         PETIT LARCENY        820238\n",
       "44                         HARRASSMENT 2        602769\n",
       "18          ASSAULT 3 & RELATED OFFENSES        521018\n",
       "58        CRIMINAL MISCHIEF & RELATED OF        504925\n",
       "40                         GRAND LARCENY        424851\n",
       "59                       DANGEROUS DRUGS        348336\n",
       "8          OFF. AGNST PUB ORD SENSBLTY &        281604\n",
       "26                               ROBBERY        198608\n",
       "9                               BURGLARY        191082\n",
       "21                        FELONY ASSAULT        183917\n",
       "0                      DANGEROUS WEAPONS        124176\n",
       "37               MISCELLANEOUS PENAL LAW        118491\n",
       "4         GRAND LARCENY OF MOTOR VEHICLE        101831\n",
       "60        OFFENSES AGAINST PUBLIC ADMINI        100059\n",
       "52        INTOXICATED & IMPAIRED DRIVING         73695\n",
       "47                     CRIMINAL TRESPASS         66501\n",
       "34              VEHICLE AND TRAFFIC LAWS         59097\n",
       "41                           THEFT-FRAUD         53912\n",
       "61                            SEX CRIMES         53213\n",
       "23                               FORGERY         48973\n",
       "30                                FRAUDS         31149\n",
       "3          POSSESSION OF STOLEN PROPERTY         29432\n",
       "16              OFFENSES INVOLVING FRAUD         17699\n",
       "1                                  ARSON         13914\n",
       "17         UNAUTHORIZED USE OF A VEHICLE         13761\n",
       "10                                  RAPE         12986\n",
       "48           OFFENSES AGAINST THE PERSON         12324\n",
       "67                   ADMINISTRATIVE CODE         11360\n",
       "69        OTHER OFFENSES RELATED TO THEF          9652\n",
       "63        OTHER STATE LAWS (NON PENAL LA          5489\n",
       "..                                   ...           ...\n",
       "35                    DISORDERLY CONDUCT           828\n",
       "38        OFFENSES AGAINST PUBLIC SAFETY           810\n",
       "45        ALCOHOLIC BEVERAGE CONTROL LAW           750\n",
       "54         CHILD ABANDONMENT/NON SUPPORT           365\n",
       "64                              JOSTLING           299\n",
       "32                      OTHER STATE LAWS           232\n",
       "65        LOITERING/GAMBLING (CARDS, DIC           207\n",
       "42                              ESCAPE 3           167\n",
       "2                   ENDAN WELFARE INCOMP           143\n",
       "24                 ANTICIPATORY OFFENSES            95\n",
       "28            HOMICIDE-NEGLIGENT-VEHICLE            93\n",
       "62  AGRICULTURE & MRKTS LAW-UNCLASSIFIED            83\n",
       "22             NEW YORK CITY HEALTH CODE            75\n",
       "19        UNLAWFUL POSS. WEAP. ON SCHOOL            59\n",
       "31          INTOXICATED/IMPAIRED DRIVING            48\n",
       "46        DISRUPTION OF A RELIGIOUS SERV            47\n",
       "55        HOMICIDE-NEGLIGENT,UNCLASSIFIE            33\n",
       "7            LOITERING FOR DRUG PURPOSES            23\n",
       "14                             LOITERING            20\n",
       "43                  ADMINISTRATIVE CODES            18\n",
       "56                 LOITERING/DEVIATE SEX            16\n",
       "57              OTHER TRAFFIC INFRACTION            13\n",
       "33                       FORTUNE TELLING            11\n",
       "39       NYS LAWS-UNCLASSIFIED VIOLATION             6\n",
       "51                              ABORTION             4\n",
       "29      OTHER STATE LAWS (NON PENAL LAW)             4\n",
       "25          UNDER THE INFLUENCE OF DRUGS             3\n",
       "5         OFFENSES AGAINST MARRIAGE UNCL             3\n",
       "66       KIDNAPPING AND RELATED OFFENSES             2\n",
       "20                            KIDNAPPING             2\n",
       "\n",
       "[70 rows x 2 columns]"
      ]
     },
     "execution_count": 91,
     "metadata": {},
     "output_type": "execute_result"
    }
   ],
   "source": [
    "data2 = pd.read_csv(\"r2.out\", sep =\"\\t\", header =None, names =['Crime_types', 'NO_of_Crimes'])\n",
    "data2 =data2.sort('NO_of_Crimes', ascending =False)\n",
    "data2"
   ]
  },
  {
   "cell_type": "code",
   "execution_count": 90,
   "metadata": {
    "collapsed": false
   },
   "outputs": [
    {
     "name": "stderr",
     "output_type": "stream",
     "text": [
      "C:\\Users\\sherryyang\\Anaconda3\\lib\\site-packages\\ipykernel\\__main__.py:2: FutureWarning: sort(columns=....) is deprecated, use sort_values(by=.....)\n",
      "  from ipykernel import kernelapp as app\n"
     ]
    },
    {
     "data": {
      "text/plain": [
       "['PETIT LARCENY',\n",
       " 'HARRASSMENT 2',\n",
       " 'ASSAULT 3 & RELATED OFFENSES',\n",
       " 'CRIMINAL MISCHIEF & RELATED OF',\n",
       " 'GRAND LARCENY',\n",
       " 'DANGEROUS DRUGS',\n",
       " 'OFF. AGNST PUB ORD SENSBLTY &',\n",
       " 'ROBBERY',\n",
       " 'BURGLARY',\n",
       " 'FELONY ASSAULT']"
      ]
     },
     "execution_count": 90,
     "metadata": {},
     "output_type": "execute_result"
    }
   ],
   "source": [
    "data2 = data2[:10]\n",
    "data2 = list(data2[data2.columns[0]])\n",
    "data2"
   ]
  },
  {
   "cell_type": "code",
   "execution_count": 301,
   "metadata": {
    "collapsed": false
   },
   "outputs": [
    {
     "name": "stderr",
     "output_type": "stream",
     "text": [
      "C:\\Users\\sherryyang\\Anaconda3\\lib\\site-packages\\ipykernel\\__main__.py:2: FutureWarning:\n",
      "\n",
      "sort(columns=....) is deprecated, use sort_values(by=.....)\n",
      "\n"
     ]
    },
    {
     "data": {
      "text/plain": [
       "['PETIT LARCENY',\n",
       " 'HARRASSMENT 2',\n",
       " 'ASSAULT 3 & RELATED OFFENSES',\n",
       " 'CRIMINAL MISCHIEF & RELATED OF',\n",
       " 'GRAND LARCENY',\n",
       " 'DANGEROUS DRUGS',\n",
       " 'OFF. AGNST PUB ORD SENSBLTY &',\n",
       " 'ROBBERY',\n",
       " 'BURGLARY',\n",
       " 'FELONY ASSAULT']"
      ]
     },
     "execution_count": 301,
     "metadata": {},
     "output_type": "execute_result"
    }
   ],
   "source": [
    "nd2 = pd.read_csv(\"newr2.out\", sep =\"\\t\", header =None, names =['Crime_types', 'NO_of_Crimes'])\n",
    "nd2 =nd2.sort('NO_of_Crimes', ascending =False)\n",
    "nd2= nd2[:10]\n",
    "list(nd2[nd2.columns[0]])"
   ]
  },
  {
   "cell_type": "code",
   "execution_count": 99,
   "metadata": {
    "collapsed": false
   },
   "outputs": [
    {
     "data": {
      "text/html": [
       "<div>\n",
       "<table border=\"1\" class=\"dataframe\">\n",
       "  <thead>\n",
       "    <tr style=\"text-align: right;\">\n",
       "      <th></th>\n",
       "      <th>Crime_class</th>\n",
       "      <th>Juri_desc</th>\n",
       "      <th>NO_of_Crimes</th>\n",
       "    </tr>\n",
       "  </thead>\n",
       "  <tbody>\n",
       "    <tr>\n",
       "      <th>0</th>\n",
       "      <td>ASSAULT 3 &amp; RELATED OFFENSES</td>\n",
       "      <td>SEA GATE POLICE DEPT</td>\n",
       "      <td>5</td>\n",
       "    </tr>\n",
       "    <tr>\n",
       "      <th>1</th>\n",
       "      <td>CRIMINAL MISCHIEF &amp; RELATED OF</td>\n",
       "      <td>OTHER</td>\n",
       "      <td>1941</td>\n",
       "    </tr>\n",
       "    <tr>\n",
       "      <th>2</th>\n",
       "      <td>DANGEROUS DRUGS</td>\n",
       "      <td>OTHER</td>\n",
       "      <td>789</td>\n",
       "    </tr>\n",
       "    <tr>\n",
       "      <th>3</th>\n",
       "      <td>FELONY ASSAULT</td>\n",
       "      <td>AMTRACK</td>\n",
       "      <td>3</td>\n",
       "    </tr>\n",
       "    <tr>\n",
       "      <th>4</th>\n",
       "      <td>FELONY ASSAULT</td>\n",
       "      <td>POLICE DEPT NYC</td>\n",
       "      <td>288</td>\n",
       "    </tr>\n",
       "    <tr>\n",
       "      <th>5</th>\n",
       "      <td>PETIT LARCENY</td>\n",
       "      <td>DEPT OF CORRECTIONS</td>\n",
       "      <td>25</td>\n",
       "    </tr>\n",
       "    <tr>\n",
       "      <th>6</th>\n",
       "      <td>PETIT LARCENY</td>\n",
       "      <td>NEW YORK CITY SHERIFF OFFICE</td>\n",
       "      <td>1</td>\n",
       "    </tr>\n",
       "    <tr>\n",
       "      <th>7</th>\n",
       "      <td>PETIT LARCENY</td>\n",
       "      <td>NYS DEPT TAX AND FINANCE</td>\n",
       "      <td>14</td>\n",
       "    </tr>\n",
       "    <tr>\n",
       "      <th>8</th>\n",
       "      <td>ASSAULT 3 &amp; RELATED OFFENSES</td>\n",
       "      <td>METRO NORTH</td>\n",
       "      <td>34</td>\n",
       "    </tr>\n",
       "    <tr>\n",
       "      <th>9</th>\n",
       "      <td>ASSAULT 3 &amp; RELATED OFFENSES</td>\n",
       "      <td>PORT AUTHORITY</td>\n",
       "      <td>1092</td>\n",
       "    </tr>\n",
       "    <tr>\n",
       "      <th>10</th>\n",
       "      <td>BURGLARY</td>\n",
       "      <td>HEALTH &amp; HOSP CORP</td>\n",
       "      <td>25</td>\n",
       "    </tr>\n",
       "    <tr>\n",
       "      <th>11</th>\n",
       "      <td>BURGLARY</td>\n",
       "      <td>U.S. PARK POLICE</td>\n",
       "      <td>2</td>\n",
       "    </tr>\n",
       "    <tr>\n",
       "      <th>12</th>\n",
       "      <td>HARRASSMENT 2</td>\n",
       "      <td>N.Y. HOUSING POLICE</td>\n",
       "      <td>55377</td>\n",
       "    </tr>\n",
       "    <tr>\n",
       "      <th>13</th>\n",
       "      <td>OFF. AGNST PUB ORD SENSBLTY &amp;</td>\n",
       "      <td>HEALTH &amp; HOSP CORP</td>\n",
       "      <td>112</td>\n",
       "    </tr>\n",
       "    <tr>\n",
       "      <th>14</th>\n",
       "      <td>OFF. AGNST PUB ORD SENSBLTY &amp;</td>\n",
       "      <td>U.S. PARK POLICE</td>\n",
       "      <td>3</td>\n",
       "    </tr>\n",
       "    <tr>\n",
       "      <th>15</th>\n",
       "      <td>ASSAULT 3 &amp; RELATED OFFENSES</td>\n",
       "      <td>AMTRACK</td>\n",
       "      <td>15</td>\n",
       "    </tr>\n",
       "    <tr>\n",
       "      <th>16</th>\n",
       "      <td>ASSAULT 3 &amp; RELATED OFFENSES</td>\n",
       "      <td>POLICE DEPT NYC</td>\n",
       "      <td>885</td>\n",
       "    </tr>\n",
       "    <tr>\n",
       "      <th>17</th>\n",
       "      <td>CRIMINAL MISCHIEF &amp; RELATED OF</td>\n",
       "      <td>TRI-BORO BRDG TUNNL</td>\n",
       "      <td>65</td>\n",
       "    </tr>\n",
       "    <tr>\n",
       "      <th>18</th>\n",
       "      <td>DANGEROUS DRUGS</td>\n",
       "      <td>TRI-BORO BRDG TUNNL</td>\n",
       "      <td>180</td>\n",
       "    </tr>\n",
       "    <tr>\n",
       "      <th>19</th>\n",
       "      <td>FELONY ASSAULT</td>\n",
       "      <td>NYC PARKS</td>\n",
       "      <td>6</td>\n",
       "    </tr>\n",
       "    <tr>\n",
       "      <th>20</th>\n",
       "      <td>GRAND LARCENY</td>\n",
       "      <td>NEW YORK CITY SHERIFF OFFICE</td>\n",
       "      <td>3</td>\n",
       "    </tr>\n",
       "    <tr>\n",
       "      <th>21</th>\n",
       "      <td>GRAND LARCENY</td>\n",
       "      <td>NYS DEPT TAX AND FINANCE</td>\n",
       "      <td>5</td>\n",
       "    </tr>\n",
       "    <tr>\n",
       "      <th>22</th>\n",
       "      <td>FELONY ASSAULT</td>\n",
       "      <td>PORT AUTHORITY</td>\n",
       "      <td>486</td>\n",
       "    </tr>\n",
       "    <tr>\n",
       "      <th>23</th>\n",
       "      <td>GRAND LARCENY</td>\n",
       "      <td>N.Y. HOUSING POLICE</td>\n",
       "      <td>9240</td>\n",
       "    </tr>\n",
       "    <tr>\n",
       "      <th>24</th>\n",
       "      <td>PETIT LARCENY</td>\n",
       "      <td>N.Y. POLICE DEPT</td>\n",
       "      <td>781536</td>\n",
       "    </tr>\n",
       "    <tr>\n",
       "      <th>25</th>\n",
       "      <td>ASSAULT 3 &amp; RELATED OFFENSES</td>\n",
       "      <td>NYC PARKS</td>\n",
       "      <td>2</td>\n",
       "    </tr>\n",
       "    <tr>\n",
       "      <th>26</th>\n",
       "      <td>BURGLARY</td>\n",
       "      <td>LONG ISLAND RAILRD</td>\n",
       "      <td>1</td>\n",
       "    </tr>\n",
       "    <tr>\n",
       "      <th>27</th>\n",
       "      <td>CRIMINAL MISCHIEF &amp; RELATED OF</td>\n",
       "      <td>CONRAIL</td>\n",
       "      <td>2</td>\n",
       "    </tr>\n",
       "    <tr>\n",
       "      <th>28</th>\n",
       "      <td>CRIMINAL MISCHIEF &amp; RELATED OF</td>\n",
       "      <td>STATN IS RAPID TRANS</td>\n",
       "      <td>102</td>\n",
       "    </tr>\n",
       "    <tr>\n",
       "      <th>29</th>\n",
       "      <td>DANGEROUS DRUGS</td>\n",
       "      <td>STATN IS RAPID TRANS</td>\n",
       "      <td>13</td>\n",
       "    </tr>\n",
       "    <tr>\n",
       "      <th>...</th>\n",
       "      <td>...</td>\n",
       "      <td>...</td>\n",
       "      <td>...</td>\n",
       "    </tr>\n",
       "    <tr>\n",
       "      <th>181</th>\n",
       "      <td>CRIMINAL MISCHIEF &amp; RELATED OF</td>\n",
       "      <td>LONG ISLAND RAILRD</td>\n",
       "      <td>31</td>\n",
       "    </tr>\n",
       "    <tr>\n",
       "      <th>182</th>\n",
       "      <td>DANGEROUS DRUGS</td>\n",
       "      <td>LONG ISLAND RAILRD</td>\n",
       "      <td>9</td>\n",
       "    </tr>\n",
       "    <tr>\n",
       "      <th>183</th>\n",
       "      <td>FELONY ASSAULT</td>\n",
       "      <td>N.Y. POLICE DEPT</td>\n",
       "      <td>159660</td>\n",
       "    </tr>\n",
       "    <tr>\n",
       "      <th>184</th>\n",
       "      <td>OFF. AGNST PUB ORD SENSBLTY &amp;</td>\n",
       "      <td>CONRAIL</td>\n",
       "      <td>1</td>\n",
       "    </tr>\n",
       "    <tr>\n",
       "      <th>185</th>\n",
       "      <td>PETIT LARCENY</td>\n",
       "      <td>STATN IS RAPID TRANS</td>\n",
       "      <td>9</td>\n",
       "    </tr>\n",
       "    <tr>\n",
       "      <th>186</th>\n",
       "      <td>ROBBERY</td>\n",
       "      <td>NEW YORK CITY SHERIFF OFFICE</td>\n",
       "      <td>2</td>\n",
       "    </tr>\n",
       "    <tr>\n",
       "      <th>187</th>\n",
       "      <td>ROBBERY</td>\n",
       "      <td>NYS DEPT TAX AND FINANCE</td>\n",
       "      <td>1</td>\n",
       "    </tr>\n",
       "    <tr>\n",
       "      <th>188</th>\n",
       "      <td>BURGLARY</td>\n",
       "      <td>SEA GATE POLICE DEPT</td>\n",
       "      <td>2</td>\n",
       "    </tr>\n",
       "    <tr>\n",
       "      <th>189</th>\n",
       "      <td>CRIMINAL MISCHIEF &amp; RELATED OF</td>\n",
       "      <td>N.Y. HOUSING POLICE</td>\n",
       "      <td>33656</td>\n",
       "    </tr>\n",
       "    <tr>\n",
       "      <th>190</th>\n",
       "      <td>DANGEROUS DRUGS</td>\n",
       "      <td>N.Y. HOUSING POLICE</td>\n",
       "      <td>60078</td>\n",
       "    </tr>\n",
       "    <tr>\n",
       "      <th>191</th>\n",
       "      <td>HARRASSMENT 2</td>\n",
       "      <td>DEPT OF CORRECTIONS</td>\n",
       "      <td>23</td>\n",
       "    </tr>\n",
       "    <tr>\n",
       "      <th>192</th>\n",
       "      <td>OFF. AGNST PUB ORD SENSBLTY &amp;</td>\n",
       "      <td>SEA GATE POLICE DEPT</td>\n",
       "      <td>1</td>\n",
       "    </tr>\n",
       "    <tr>\n",
       "      <th>193</th>\n",
       "      <td>ROBBERY</td>\n",
       "      <td>METRO NORTH</td>\n",
       "      <td>13</td>\n",
       "    </tr>\n",
       "    <tr>\n",
       "      <th>194</th>\n",
       "      <td>BURGLARY</td>\n",
       "      <td>N.Y. TRANSIT POLICE</td>\n",
       "      <td>130</td>\n",
       "    </tr>\n",
       "    <tr>\n",
       "      <th>195</th>\n",
       "      <td>BURGLARY</td>\n",
       "      <td>PORT AUTHORITY</td>\n",
       "      <td>208</td>\n",
       "    </tr>\n",
       "    <tr>\n",
       "      <th>196</th>\n",
       "      <td>GRAND LARCENY</td>\n",
       "      <td>STATN IS RAPID TRANS</td>\n",
       "      <td>24</td>\n",
       "    </tr>\n",
       "    <tr>\n",
       "      <th>197</th>\n",
       "      <td>OFF. AGNST PUB ORD SENSBLTY &amp;</td>\n",
       "      <td>N.Y. TRANSIT POLICE</td>\n",
       "      <td>661</td>\n",
       "    </tr>\n",
       "    <tr>\n",
       "      <th>198</th>\n",
       "      <td>OFF. AGNST PUB ORD SENSBLTY &amp;</td>\n",
       "      <td>PORT AUTHORITY</td>\n",
       "      <td>258</td>\n",
       "    </tr>\n",
       "    <tr>\n",
       "      <th>199</th>\n",
       "      <td>ROBBERY</td>\n",
       "      <td>AMTRACK</td>\n",
       "      <td>1</td>\n",
       "    </tr>\n",
       "    <tr>\n",
       "      <th>200</th>\n",
       "      <td>ROBBERY</td>\n",
       "      <td>POLICE DEPT NYC</td>\n",
       "      <td>340</td>\n",
       "    </tr>\n",
       "    <tr>\n",
       "      <th>201</th>\n",
       "      <td>CRIMINAL MISCHIEF &amp; RELATED OF</td>\n",
       "      <td>NYC DEPT ENVIRONMENTAL PROTECTION</td>\n",
       "      <td>4</td>\n",
       "    </tr>\n",
       "    <tr>\n",
       "      <th>202</th>\n",
       "      <td>GRAND LARCENY</td>\n",
       "      <td>DEPT OF CORRECTIONS</td>\n",
       "      <td>10</td>\n",
       "    </tr>\n",
       "    <tr>\n",
       "      <th>203</th>\n",
       "      <td>ROBBERY</td>\n",
       "      <td>N.Y. POLICE DEPT</td>\n",
       "      <td>178992</td>\n",
       "    </tr>\n",
       "    <tr>\n",
       "      <th>204</th>\n",
       "      <td>BURGLARY</td>\n",
       "      <td>N.Y. STATE POLICE</td>\n",
       "      <td>13</td>\n",
       "    </tr>\n",
       "    <tr>\n",
       "      <th>205</th>\n",
       "      <td>CRIMINAL MISCHIEF &amp; RELATED OF</td>\n",
       "      <td>N.Y. STATE PARKS</td>\n",
       "      <td>38</td>\n",
       "    </tr>\n",
       "    <tr>\n",
       "      <th>206</th>\n",
       "      <td>DANGEROUS DRUGS</td>\n",
       "      <td>N.Y. STATE PARKS</td>\n",
       "      <td>15</td>\n",
       "    </tr>\n",
       "    <tr>\n",
       "      <th>207</th>\n",
       "      <td>FELONY ASSAULT</td>\n",
       "      <td>METRO NORTH</td>\n",
       "      <td>6</td>\n",
       "    </tr>\n",
       "    <tr>\n",
       "      <th>208</th>\n",
       "      <td>HARRASSMENT 2</td>\n",
       "      <td>STATN IS RAPID TRANS</td>\n",
       "      <td>6</td>\n",
       "    </tr>\n",
       "    <tr>\n",
       "      <th>209</th>\n",
       "      <td>OFF. AGNST PUB ORD SENSBLTY &amp;</td>\n",
       "      <td>N.Y. STATE POLICE</td>\n",
       "      <td>26</td>\n",
       "    </tr>\n",
       "    <tr>\n",
       "      <th>210</th>\n",
       "      <td>ROBBERY</td>\n",
       "      <td>NYC PARKS</td>\n",
       "      <td>1</td>\n",
       "    </tr>\n",
       "  </tbody>\n",
       "</table>\n",
       "<p>211 rows × 3 columns</p>\n",
       "</div>"
      ],
      "text/plain": [
       "                        Crime_class                           Juri_desc  \\\n",
       "0      ASSAULT 3 & RELATED OFFENSES                SEA GATE POLICE DEPT   \n",
       "1    CRIMINAL MISCHIEF & RELATED OF                               OTHER   \n",
       "2                   DANGEROUS DRUGS                               OTHER   \n",
       "3                    FELONY ASSAULT                             AMTRACK   \n",
       "4                    FELONY ASSAULT                     POLICE DEPT NYC   \n",
       "5                     PETIT LARCENY                 DEPT OF CORRECTIONS   \n",
       "6                     PETIT LARCENY        NEW YORK CITY SHERIFF OFFICE   \n",
       "7                     PETIT LARCENY            NYS DEPT TAX AND FINANCE   \n",
       "8      ASSAULT 3 & RELATED OFFENSES                         METRO NORTH   \n",
       "9      ASSAULT 3 & RELATED OFFENSES                      PORT AUTHORITY   \n",
       "10                         BURGLARY                  HEALTH & HOSP CORP   \n",
       "11                         BURGLARY                    U.S. PARK POLICE   \n",
       "12                    HARRASSMENT 2                 N.Y. HOUSING POLICE   \n",
       "13    OFF. AGNST PUB ORD SENSBLTY &                  HEALTH & HOSP CORP   \n",
       "14    OFF. AGNST PUB ORD SENSBLTY &                    U.S. PARK POLICE   \n",
       "15     ASSAULT 3 & RELATED OFFENSES                             AMTRACK   \n",
       "16     ASSAULT 3 & RELATED OFFENSES                     POLICE DEPT NYC   \n",
       "17   CRIMINAL MISCHIEF & RELATED OF                 TRI-BORO BRDG TUNNL   \n",
       "18                  DANGEROUS DRUGS                 TRI-BORO BRDG TUNNL   \n",
       "19                   FELONY ASSAULT                           NYC PARKS   \n",
       "20                    GRAND LARCENY        NEW YORK CITY SHERIFF OFFICE   \n",
       "21                    GRAND LARCENY            NYS DEPT TAX AND FINANCE   \n",
       "22                   FELONY ASSAULT                      PORT AUTHORITY   \n",
       "23                    GRAND LARCENY                 N.Y. HOUSING POLICE   \n",
       "24                    PETIT LARCENY                    N.Y. POLICE DEPT   \n",
       "25     ASSAULT 3 & RELATED OFFENSES                           NYC PARKS   \n",
       "26                         BURGLARY                  LONG ISLAND RAILRD   \n",
       "27   CRIMINAL MISCHIEF & RELATED OF                             CONRAIL   \n",
       "28   CRIMINAL MISCHIEF & RELATED OF                STATN IS RAPID TRANS   \n",
       "29                  DANGEROUS DRUGS                STATN IS RAPID TRANS   \n",
       "..                              ...                                 ...   \n",
       "181  CRIMINAL MISCHIEF & RELATED OF                  LONG ISLAND RAILRD   \n",
       "182                 DANGEROUS DRUGS                  LONG ISLAND RAILRD   \n",
       "183                  FELONY ASSAULT                    N.Y. POLICE DEPT   \n",
       "184   OFF. AGNST PUB ORD SENSBLTY &                             CONRAIL   \n",
       "185                   PETIT LARCENY                STATN IS RAPID TRANS   \n",
       "186                         ROBBERY        NEW YORK CITY SHERIFF OFFICE   \n",
       "187                         ROBBERY            NYS DEPT TAX AND FINANCE   \n",
       "188                        BURGLARY                SEA GATE POLICE DEPT   \n",
       "189  CRIMINAL MISCHIEF & RELATED OF                 N.Y. HOUSING POLICE   \n",
       "190                 DANGEROUS DRUGS                 N.Y. HOUSING POLICE   \n",
       "191                   HARRASSMENT 2                 DEPT OF CORRECTIONS   \n",
       "192   OFF. AGNST PUB ORD SENSBLTY &                SEA GATE POLICE DEPT   \n",
       "193                         ROBBERY                         METRO NORTH   \n",
       "194                        BURGLARY                 N.Y. TRANSIT POLICE   \n",
       "195                        BURGLARY                      PORT AUTHORITY   \n",
       "196                   GRAND LARCENY                STATN IS RAPID TRANS   \n",
       "197   OFF. AGNST PUB ORD SENSBLTY &                 N.Y. TRANSIT POLICE   \n",
       "198   OFF. AGNST PUB ORD SENSBLTY &                      PORT AUTHORITY   \n",
       "199                         ROBBERY                             AMTRACK   \n",
       "200                         ROBBERY                     POLICE DEPT NYC   \n",
       "201  CRIMINAL MISCHIEF & RELATED OF   NYC DEPT ENVIRONMENTAL PROTECTION   \n",
       "202                   GRAND LARCENY                 DEPT OF CORRECTIONS   \n",
       "203                         ROBBERY                    N.Y. POLICE DEPT   \n",
       "204                        BURGLARY                   N.Y. STATE POLICE   \n",
       "205  CRIMINAL MISCHIEF & RELATED OF                    N.Y. STATE PARKS   \n",
       "206                 DANGEROUS DRUGS                    N.Y. STATE PARKS   \n",
       "207                  FELONY ASSAULT                         METRO NORTH   \n",
       "208                   HARRASSMENT 2                STATN IS RAPID TRANS   \n",
       "209   OFF. AGNST PUB ORD SENSBLTY &                   N.Y. STATE POLICE   \n",
       "210                         ROBBERY                           NYC PARKS   \n",
       "\n",
       "     NO_of_Crimes  \n",
       "0               5  \n",
       "1            1941  \n",
       "2             789  \n",
       "3               3  \n",
       "4             288  \n",
       "5              25  \n",
       "6               1  \n",
       "7              14  \n",
       "8              34  \n",
       "9            1092  \n",
       "10             25  \n",
       "11              2  \n",
       "12          55377  \n",
       "13            112  \n",
       "14              3  \n",
       "15             15  \n",
       "16            885  \n",
       "17             65  \n",
       "18            180  \n",
       "19              6  \n",
       "20              3  \n",
       "21              5  \n",
       "22            486  \n",
       "23           9240  \n",
       "24         781536  \n",
       "25              2  \n",
       "26              1  \n",
       "27              2  \n",
       "28            102  \n",
       "29             13  \n",
       "..            ...  \n",
       "181            31  \n",
       "182             9  \n",
       "183        159660  \n",
       "184             1  \n",
       "185             9  \n",
       "186             2  \n",
       "187             1  \n",
       "188             2  \n",
       "189         33656  \n",
       "190         60078  \n",
       "191            23  \n",
       "192             1  \n",
       "193            13  \n",
       "194           130  \n",
       "195           208  \n",
       "196            24  \n",
       "197           661  \n",
       "198           258  \n",
       "199             1  \n",
       "200           340  \n",
       "201             4  \n",
       "202            10  \n",
       "203        178992  \n",
       "204            13  \n",
       "205            38  \n",
       "206            15  \n",
       "207             6  \n",
       "208             6  \n",
       "209            26  \n",
       "210             1  \n",
       "\n",
       "[211 rows x 3 columns]"
      ]
     },
     "execution_count": 99,
     "metadata": {},
     "output_type": "execute_result"
    }
   ],
   "source": [
    "data21 = pd.read_csv(\"r21.out\", sep =\",\", header =None, names =['Crime_class', 'Juri_desc', 'NO_of_Crimes'])\n",
    "#data21\n",
    "\n",
    "data21"
   ]
  },
  {
   "cell_type": "code",
   "execution_count": 96,
   "metadata": {
    "collapsed": false
   },
   "outputs": [
    {
     "data": {
      "text/html": [
       "<div>\n",
       "<table border=\"1\" class=\"dataframe\">\n",
       "  <thead>\n",
       "    <tr style=\"text-align: right;\">\n",
       "      <th></th>\n",
       "      <th>Crime_class</th>\n",
       "      <th>Juri_desc</th>\n",
       "      <th>NO_of_Crimes</th>\n",
       "    </tr>\n",
       "  </thead>\n",
       "  <tbody>\n",
       "    <tr>\n",
       "      <th>24</th>\n",
       "      <td>PETIT LARCENY</td>\n",
       "      <td>N.Y. POLICE DEPT</td>\n",
       "      <td>781536</td>\n",
       "    </tr>\n",
       "    <tr>\n",
       "      <th>39</th>\n",
       "      <td>PETIT LARCENY</td>\n",
       "      <td>N.Y. HOUSING POLICE</td>\n",
       "      <td>19399</td>\n",
       "    </tr>\n",
       "    <tr>\n",
       "      <th>111</th>\n",
       "      <td>PETIT LARCENY</td>\n",
       "      <td>N.Y. TRANSIT POLICE</td>\n",
       "      <td>10946</td>\n",
       "    </tr>\n",
       "    <tr>\n",
       "      <th>78</th>\n",
       "      <td>PETIT LARCENY</td>\n",
       "      <td>PORT AUTHORITY</td>\n",
       "      <td>5338</td>\n",
       "    </tr>\n",
       "    <tr>\n",
       "      <th>173</th>\n",
       "      <td>PETIT LARCENY</td>\n",
       "      <td>POLICE DEPT NYC</td>\n",
       "      <td>1544</td>\n",
       "    </tr>\n",
       "    <tr>\n",
       "      <th>110</th>\n",
       "      <td>PETIT LARCENY</td>\n",
       "      <td>HEALTH &amp; HOSP CORP</td>\n",
       "      <td>627</td>\n",
       "    </tr>\n",
       "    <tr>\n",
       "      <th>69</th>\n",
       "      <td>PETIT LARCENY</td>\n",
       "      <td>OTHER</td>\n",
       "      <td>343</td>\n",
       "    </tr>\n",
       "    <tr>\n",
       "      <th>121</th>\n",
       "      <td>PETIT LARCENY</td>\n",
       "      <td>N.Y. STATE POLICE</td>\n",
       "      <td>184</td>\n",
       "    </tr>\n",
       "    <tr>\n",
       "      <th>164</th>\n",
       "      <td>PETIT LARCENY</td>\n",
       "      <td>METRO NORTH</td>\n",
       "      <td>117</td>\n",
       "    </tr>\n",
       "    <tr>\n",
       "      <th>127</th>\n",
       "      <td>PETIT LARCENY</td>\n",
       "      <td>LONG ISLAND RAILRD</td>\n",
       "      <td>67</td>\n",
       "    </tr>\n",
       "  </tbody>\n",
       "</table>\n",
       "</div>"
      ],
      "text/plain": [
       "       Crime_class             Juri_desc  NO_of_Crimes\n",
       "24   PETIT LARCENY      N.Y. POLICE DEPT        781536\n",
       "39   PETIT LARCENY   N.Y. HOUSING POLICE         19399\n",
       "111  PETIT LARCENY   N.Y. TRANSIT POLICE         10946\n",
       "78   PETIT LARCENY        PORT AUTHORITY          5338\n",
       "173  PETIT LARCENY       POLICE DEPT NYC          1544\n",
       "110  PETIT LARCENY    HEALTH & HOSP CORP           627\n",
       "69   PETIT LARCENY                 OTHER           343\n",
       "121  PETIT LARCENY     N.Y. STATE POLICE           184\n",
       "164  PETIT LARCENY           METRO NORTH           117\n",
       "127  PETIT LARCENY    LONG ISLAND RAILRD            67"
      ]
     },
     "execution_count": 96,
     "metadata": {},
     "output_type": "execute_result"
    }
   ],
   "source": [
    "def group_crimeclass(class_name):\n",
    "    data211 =data21.groupby(['Crime_class'])\n",
    "\n",
    "    data211 =data211.get_group(class_name)\n",
    "    data211 =data211.sort_values(by =['NO_of_Crimes'], ascending=False)\n",
    "    data211 = data211[:10]\n",
    "    return data211\n",
    "group_crimeclass('PETIT LARCENY')"
   ]
  },
  {
   "cell_type": "code",
   "execution_count": 97,
   "metadata": {
    "collapsed": false
   },
   "outputs": [
    {
     "data": {
      "text/html": [
       "<div>\n",
       "<table border=\"1\" class=\"dataframe\">\n",
       "  <thead>\n",
       "    <tr style=\"text-align: right;\">\n",
       "      <th></th>\n",
       "      <th>Crime_class</th>\n",
       "      <th>Juri_desc</th>\n",
       "      <th>NO_of_Crimes</th>\n",
       "    </tr>\n",
       "  </thead>\n",
       "  <tbody>\n",
       "    <tr>\n",
       "      <th>82</th>\n",
       "      <td>DANGEROUS DRUGS</td>\n",
       "      <td>N.Y. POLICE DEPT</td>\n",
       "      <td>280399</td>\n",
       "    </tr>\n",
       "    <tr>\n",
       "      <th>190</th>\n",
       "      <td>DANGEROUS DRUGS</td>\n",
       "      <td>N.Y. HOUSING POLICE</td>\n",
       "      <td>60078</td>\n",
       "    </tr>\n",
       "    <tr>\n",
       "      <th>44</th>\n",
       "      <td>DANGEROUS DRUGS</td>\n",
       "      <td>N.Y. TRANSIT POLICE</td>\n",
       "      <td>5360</td>\n",
       "    </tr>\n",
       "    <tr>\n",
       "      <th>138</th>\n",
       "      <td>DANGEROUS DRUGS</td>\n",
       "      <td>PORT AUTHORITY</td>\n",
       "      <td>932</td>\n",
       "    </tr>\n",
       "    <tr>\n",
       "      <th>2</th>\n",
       "      <td>DANGEROUS DRUGS</td>\n",
       "      <td>OTHER</td>\n",
       "      <td>789</td>\n",
       "    </tr>\n",
       "    <tr>\n",
       "      <th>106</th>\n",
       "      <td>DANGEROUS DRUGS</td>\n",
       "      <td>POLICE DEPT NYC</td>\n",
       "      <td>285</td>\n",
       "    </tr>\n",
       "    <tr>\n",
       "      <th>18</th>\n",
       "      <td>DANGEROUS DRUGS</td>\n",
       "      <td>TRI-BORO BRDG TUNNL</td>\n",
       "      <td>180</td>\n",
       "    </tr>\n",
       "    <tr>\n",
       "      <th>167</th>\n",
       "      <td>DANGEROUS DRUGS</td>\n",
       "      <td>HEALTH &amp; HOSP CORP</td>\n",
       "      <td>150</td>\n",
       "    </tr>\n",
       "    <tr>\n",
       "      <th>161</th>\n",
       "      <td>DANGEROUS DRUGS</td>\n",
       "      <td>DEPT OF CORRECTIONS</td>\n",
       "      <td>38</td>\n",
       "    </tr>\n",
       "    <tr>\n",
       "      <th>59</th>\n",
       "      <td>DANGEROUS DRUGS</td>\n",
       "      <td>N.Y. STATE POLICE</td>\n",
       "      <td>27</td>\n",
       "    </tr>\n",
       "  </tbody>\n",
       "</table>\n",
       "</div>"
      ],
      "text/plain": [
       "         Crime_class             Juri_desc  NO_of_Crimes\n",
       "82   DANGEROUS DRUGS      N.Y. POLICE DEPT        280399\n",
       "190  DANGEROUS DRUGS   N.Y. HOUSING POLICE         60078\n",
       "44   DANGEROUS DRUGS   N.Y. TRANSIT POLICE          5360\n",
       "138  DANGEROUS DRUGS        PORT AUTHORITY           932\n",
       "2    DANGEROUS DRUGS                 OTHER           789\n",
       "106  DANGEROUS DRUGS       POLICE DEPT NYC           285\n",
       "18   DANGEROUS DRUGS   TRI-BORO BRDG TUNNL           180\n",
       "167  DANGEROUS DRUGS    HEALTH & HOSP CORP           150\n",
       "161  DANGEROUS DRUGS   DEPT OF CORRECTIONS            38\n",
       "59   DANGEROUS DRUGS     N.Y. STATE POLICE            27"
      ]
     },
     "execution_count": 97,
     "metadata": {},
     "output_type": "execute_result"
    }
   ],
   "source": [
    "group_crimeclass('DANGEROUS DRUGS')"
   ]
  },
  {
   "cell_type": "code",
   "execution_count": 98,
   "metadata": {
    "collapsed": false
   },
   "outputs": [
    {
     "data": {
      "text/html": [
       "<div>\n",
       "<table border=\"1\" class=\"dataframe\">\n",
       "  <thead>\n",
       "    <tr style=\"text-align: right;\">\n",
       "      <th></th>\n",
       "      <th>Crime_class</th>\n",
       "      <th>Juri_desc</th>\n",
       "      <th>NO_of_Crimes</th>\n",
       "    </tr>\n",
       "  </thead>\n",
       "  <tbody>\n",
       "    <tr>\n",
       "      <th>203</th>\n",
       "      <td>ROBBERY</td>\n",
       "      <td>N.Y. POLICE DEPT</td>\n",
       "      <td>178992</td>\n",
       "    </tr>\n",
       "    <tr>\n",
       "      <th>74</th>\n",
       "      <td>ROBBERY</td>\n",
       "      <td>N.Y. HOUSING POLICE</td>\n",
       "      <td>11553</td>\n",
       "    </tr>\n",
       "    <tr>\n",
       "      <th>142</th>\n",
       "      <td>ROBBERY</td>\n",
       "      <td>N.Y. TRANSIT POLICE</td>\n",
       "      <td>7206</td>\n",
       "    </tr>\n",
       "    <tr>\n",
       "      <th>200</th>\n",
       "      <td>ROBBERY</td>\n",
       "      <td>POLICE DEPT NYC</td>\n",
       "      <td>340</td>\n",
       "    </tr>\n",
       "    <tr>\n",
       "      <th>47</th>\n",
       "      <td>ROBBERY</td>\n",
       "      <td>PORT AUTHORITY</td>\n",
       "      <td>272</td>\n",
       "    </tr>\n",
       "    <tr>\n",
       "      <th>101</th>\n",
       "      <td>ROBBERY</td>\n",
       "      <td>OTHER</td>\n",
       "      <td>86</td>\n",
       "    </tr>\n",
       "    <tr>\n",
       "      <th>157</th>\n",
       "      <td>ROBBERY</td>\n",
       "      <td>STATN IS RAPID TRANS</td>\n",
       "      <td>53</td>\n",
       "    </tr>\n",
       "    <tr>\n",
       "      <th>92</th>\n",
       "      <td>ROBBERY</td>\n",
       "      <td>LONG ISLAND RAILRD</td>\n",
       "      <td>27</td>\n",
       "    </tr>\n",
       "    <tr>\n",
       "      <th>156</th>\n",
       "      <td>ROBBERY</td>\n",
       "      <td>N.Y. STATE POLICE</td>\n",
       "      <td>19</td>\n",
       "    </tr>\n",
       "    <tr>\n",
       "      <th>122</th>\n",
       "      <td>ROBBERY</td>\n",
       "      <td>N.Y. STATE PARKS</td>\n",
       "      <td>15</td>\n",
       "    </tr>\n",
       "  </tbody>\n",
       "</table>\n",
       "</div>"
      ],
      "text/plain": [
       "    Crime_class              Juri_desc  NO_of_Crimes\n",
       "203     ROBBERY       N.Y. POLICE DEPT        178992\n",
       "74      ROBBERY    N.Y. HOUSING POLICE         11553\n",
       "142     ROBBERY    N.Y. TRANSIT POLICE          7206\n",
       "200     ROBBERY        POLICE DEPT NYC           340\n",
       "47      ROBBERY         PORT AUTHORITY           272\n",
       "101     ROBBERY                  OTHER            86\n",
       "157     ROBBERY   STATN IS RAPID TRANS            53\n",
       "92      ROBBERY     LONG ISLAND RAILRD            27\n",
       "156     ROBBERY      N.Y. STATE POLICE            19\n",
       "122     ROBBERY       N.Y. STATE PARKS            15"
      ]
     },
     "execution_count": 98,
     "metadata": {},
     "output_type": "execute_result"
    }
   ],
   "source": [
    "group_crimeclass('ROBBERY')"
   ]
  },
  {
   "cell_type": "code",
   "execution_count": 101,
   "metadata": {
    "collapsed": false
   },
   "outputs": [
    {
     "data": {
      "text/html": [
       "<iframe id=\"igraph\" scrolling=\"no\" style=\"border:none;\" seamless=\"seamless\" src=\"https://plot.ly/~sherryyang0127/62.embed\" height=\"525px\" width=\"100%\"></iframe>"
      ],
      "text/plain": [
       "<plotly.tools.PlotlyDisplay object>"
      ]
     },
     "execution_count": 101,
     "metadata": {},
     "output_type": "execute_result"
    }
   ],
   "source": [
    "import plotly.plotly as py\n",
    "import plotly.graph_objs as go\n",
    "\n",
    "fig = {\n",
    "    'data': [{'labels': list(group_crimeclass('PETIT LARCENY')[group_crimeclass('PETIT LARCENY').columns[1]]),\n",
    "              'values': list(group_crimeclass('PETIT LARCENY')[group_crimeclass('PETIT LARCENY').columns[2]]),\n",
    "              'type': 'pie'}],\n",
    "    'layout': {'title': 'Percent of juris description by'+' PETIT LARCENY'}\n",
    "     }\n",
    "\n",
    "py.iplot(fig)\n",
    "    "
   ]
  },
  {
   "cell_type": "code",
   "execution_count": 102,
   "metadata": {
    "collapsed": false
   },
   "outputs": [
    {
     "data": {
      "text/html": [
       "<iframe id=\"igraph\" scrolling=\"no\" style=\"border:none;\" seamless=\"seamless\" src=\"https://plot.ly/~sherryyang0127/64.embed\" height=\"525px\" width=\"100%\"></iframe>"
      ],
      "text/plain": [
       "<plotly.tools.PlotlyDisplay object>"
      ]
     },
     "execution_count": 102,
     "metadata": {},
     "output_type": "execute_result"
    }
   ],
   "source": [
    "import plotly.plotly as py\n",
    "import plotly.graph_objs as go\n",
    "\n",
    "fig = {\n",
    "    'data': [{'labels': list(group_crimeclass('HARRASSMENT 2')[group_crimeclass('HARRASSMENT 2').columns[1]]),\n",
    "              'values': list(group_crimeclass('HARRASSMENT 2')[group_crimeclass('HARRASSMENT 2').columns[2]]),\n",
    "              'type': 'pie'}],\n",
    "    'layout': {'title': 'Percent of juris description by'+' HARRASSMENT 2'}\n",
    "     }\n",
    "\n",
    "py.iplot(fig)\n",
    "    \n",
    "#plot_pie(group_crimeclass('PETIT LARCENY'),'PETIT LARCENY')"
   ]
  },
  {
   "cell_type": "code",
   "execution_count": 103,
   "metadata": {
    "collapsed": false
   },
   "outputs": [
    {
     "data": {
      "text/html": [
       "<iframe id=\"igraph\" scrolling=\"no\" style=\"border:none;\" seamless=\"seamless\" src=\"https://plot.ly/~sherryyang0127/66.embed\" height=\"525px\" width=\"100%\"></iframe>"
      ],
      "text/plain": [
       "<plotly.tools.PlotlyDisplay object>"
      ]
     },
     "execution_count": 103,
     "metadata": {},
     "output_type": "execute_result"
    }
   ],
   "source": [
    "import plotly.plotly as py\n",
    "import plotly.graph_objs as go\n",
    "\n",
    "fig = {\n",
    "    'data': [{'labels': list(group_crimeclass('ASSAULT 3 & RELATED OFFENSES')[group_crimeclass('ASSAULT 3 & RELATED OFFENSES').columns[1]]),\n",
    "              'values': list(group_crimeclass('ASSAULT 3 & RELATED OFFENSES')[group_crimeclass('ASSAULT 3 & RELATED OFFENSES').columns[2]]),\n",
    "              'type': 'pie'}],\n",
    "    'layout': {'title': 'Percent of juris description by'+ ' ASSAULT 3 & RELATED OFFENSES'}\n",
    "     }\n",
    "\n",
    "py.iplot(fig)\n",
    "    \n",
    "#plot_pie(group_crimeclass('PETIT LARCENY'),'PETIT LARCENY')"
   ]
  },
  {
   "cell_type": "code",
   "execution_count": 104,
   "metadata": {
    "collapsed": false
   },
   "outputs": [
    {
     "data": {
      "text/html": [
       "<iframe id=\"igraph\" scrolling=\"no\" style=\"border:none;\" seamless=\"seamless\" src=\"https://plot.ly/~sherryyang0127/68.embed\" height=\"525px\" width=\"100%\"></iframe>"
      ],
      "text/plain": [
       "<plotly.tools.PlotlyDisplay object>"
      ]
     },
     "execution_count": 104,
     "metadata": {},
     "output_type": "execute_result"
    }
   ],
   "source": [
    "import plotly.plotly as py\n",
    "import plotly.graph_objs as go\n",
    "\n",
    "fig = {\n",
    "    'data': [{'labels': list(group_crimeclass('CRIMINAL MISCHIEF & RELATED OF')[group_crimeclass('CRIMINAL MISCHIEF & RELATED OF').columns[1]]),\n",
    "              'values': list(group_crimeclass('CRIMINAL MISCHIEF & RELATED OF')[group_crimeclass('CRIMINAL MISCHIEF & RELATED OF').columns[2]]),\n",
    "              'type': 'pie'}],\n",
    "    'layout': {'title': 'Percent of juris description by'+ ' CRIMINAL MISCHIEF & RELATED OF'}\n",
    "     }\n",
    "\n",
    "py.iplot(fig)\n",
    "    \n",
    "#plot_pie(group_crimeclass('PETIT LARCENY'),'PETIT LARCENY')"
   ]
  },
  {
   "cell_type": "code",
   "execution_count": 105,
   "metadata": {
    "collapsed": false
   },
   "outputs": [
    {
     "data": {
      "text/html": [
       "<iframe id=\"igraph\" scrolling=\"no\" style=\"border:none;\" seamless=\"seamless\" src=\"https://plot.ly/~sherryyang0127/70.embed\" height=\"525px\" width=\"100%\"></iframe>"
      ],
      "text/plain": [
       "<plotly.tools.PlotlyDisplay object>"
      ]
     },
     "execution_count": 105,
     "metadata": {},
     "output_type": "execute_result"
    }
   ],
   "source": [
    "import plotly.plotly as py\n",
    "import plotly.graph_objs as go\n",
    "\n",
    "fig = {\n",
    "    'data': [{'labels': list(group_crimeclass('GRAND LARCENY',)[group_crimeclass('GRAND LARCENY',).columns[1]]),\n",
    "              'values': list(group_crimeclass('GRAND LARCENY',)[group_crimeclass('GRAND LARCENY',).columns[2]]),\n",
    "              'type': 'pie'}],\n",
    "    'layout': {'title': 'Percent of juris description by'+ 'GRAND LARCENY',}\n",
    "     }\n",
    "\n",
    "py.iplot(fig)\n",
    "    \n",
    "#plot_pie(group_crimeclass('PETIT LARCENY'),'PETIT LARCENY')"
   ]
  },
  {
   "cell_type": "code",
   "execution_count": 106,
   "metadata": {
    "collapsed": false
   },
   "outputs": [
    {
     "name": "stderr",
     "output_type": "stream",
     "text": [
      "C:\\Users\\sherryyang\\Anaconda3\\lib\\site-packages\\ipykernel\\__main__.py:2: FutureWarning:\n",
      "\n",
      "sort(columns=....) is deprecated, use sort_values(by=.....)\n",
      "\n"
     ]
    },
    {
     "data": {
      "text/html": [
       "<div>\n",
       "<table border=\"1\" class=\"dataframe\">\n",
       "  <thead>\n",
       "    <tr style=\"text-align: right;\">\n",
       "      <th></th>\n",
       "      <th>Time</th>\n",
       "      <th>No_of_Crimes</th>\n",
       "    </tr>\n",
       "  </thead>\n",
       "  <tbody>\n",
       "    <tr>\n",
       "      <th>13</th>\n",
       "      <td>0</td>\n",
       "      <td>238086</td>\n",
       "    </tr>\n",
       "    <tr>\n",
       "      <th>14</th>\n",
       "      <td>1</td>\n",
       "      <td>176531</td>\n",
       "    </tr>\n",
       "    <tr>\n",
       "      <th>15</th>\n",
       "      <td>2</td>\n",
       "      <td>141014</td>\n",
       "    </tr>\n",
       "    <tr>\n",
       "      <th>16</th>\n",
       "      <td>3</td>\n",
       "      <td>118482</td>\n",
       "    </tr>\n",
       "    <tr>\n",
       "      <th>17</th>\n",
       "      <td>4</td>\n",
       "      <td>103518</td>\n",
       "    </tr>\n",
       "  </tbody>\n",
       "</table>\n",
       "</div>"
      ],
      "text/plain": [
       "    Time  No_of_Crimes\n",
       "13     0        238086\n",
       "14     1        176531\n",
       "15     2        141014\n",
       "16     3        118482\n",
       "17     4        103518"
      ]
     },
     "execution_count": 106,
     "metadata": {},
     "output_type": "execute_result"
    }
   ],
   "source": [
    "data3 = pd.read_csv(\"r3.out\", sep =\"\\t\", header =None, names =['Time', \"No_of_Crimes\"])\n",
    "data3 =data3.sort(['Time'],ascending =True)\n",
    "data3.head()"
   ]
  },
  {
   "cell_type": "code",
   "execution_count": 281,
   "metadata": {
    "collapsed": false
   },
   "outputs": [
    {
     "data": {
      "image/png": "[encoded data removed]",
      "text/plain": [
       "<matplotlib.figure.Figure at 0x1b023648d68>"
      ]
     },
     "metadata": {},
     "output_type": "display_data"
    }
   ],
   "source": [
    "import seaborn as sns\n",
    "sns.barplot(\"Time\", y=\"No_of_Crimes\", data=data3, palette=\"Blues_d\")\n",
    "sns.plt.show()"
   ]
  },
  {
   "cell_type": "code",
   "execution_count": 116,
   "metadata": {
    "collapsed": false
   },
   "outputs": [
    {
     "data": {
      "text/html": [
       "<div>\n",
       "<table border=\"1\" class=\"dataframe\">\n",
       "  <thead>\n",
       "    <tr style=\"text-align: right;\">\n",
       "      <th></th>\n",
       "      <th>borough</th>\n",
       "      <th>time</th>\n",
       "      <th>NO_of_crimes</th>\n",
       "    </tr>\n",
       "  </thead>\n",
       "  <tbody>\n",
       "    <tr>\n",
       "      <th>0</th>\n",
       "      <td>STATEN ISLAND</td>\n",
       "      <td>within1day</td>\n",
       "      <td>58029</td>\n",
       "    </tr>\n",
       "    <tr>\n",
       "      <th>1</th>\n",
       "      <td>BROOKLYN</td>\n",
       "      <td>within30mins</td>\n",
       "      <td>172821</td>\n",
       "    </tr>\n",
       "    <tr>\n",
       "      <th>2</th>\n",
       "      <td>BRONX</td>\n",
       "      <td>within30mins</td>\n",
       "      <td>108337</td>\n",
       "    </tr>\n",
       "    <tr>\n",
       "      <th>3</th>\n",
       "      <td>BROOKLYN</td>\n",
       "      <td>within10mins</td>\n",
       "      <td>467230</td>\n",
       "    </tr>\n",
       "    <tr>\n",
       "      <th>4</th>\n",
       "      <td>BRONX</td>\n",
       "      <td>within10mins</td>\n",
       "      <td>308547</td>\n",
       "    </tr>\n",
       "  </tbody>\n",
       "</table>\n",
       "</div>"
      ],
      "text/plain": [
       "         borough           time  NO_of_crimes\n",
       "0  STATEN ISLAND     within1day         58029\n",
       "1       BROOKLYN   within30mins        172821\n",
       "2          BRONX   within30mins        108337\n",
       "3       BROOKLYN   within10mins        467230\n",
       "4          BRONX   within10mins        308547"
      ]
     },
     "execution_count": 116,
     "metadata": {},
     "output_type": "execute_result"
    }
   ],
   "source": [
    "data4 = pd.read_csv(\"r4.out\", sep =\",\", header =None,names =['borough', 'time', 'NO_of_crimes'])\n",
    "#data4[data4.columns[0]]\n",
    "data4.head()"
   ]
  },
  {
   "cell_type": "code",
   "execution_count": 121,
   "metadata": {
    "collapsed": true
   },
   "outputs": [],
   "source": [
    "def group_borough(bor):\n",
    "    data211 =data4.groupby(['borough'])\n",
    "    data211 =data211.get_group(bor)\n",
    "   \n",
    "    return data211"
   ]
  },
  {
   "cell_type": "code",
   "execution_count": 122,
   "metadata": {
    "collapsed": false
   },
   "outputs": [
    {
     "data": {
      "text/html": [
       "<div>\n",
       "<table border=\"1\" class=\"dataframe\">\n",
       "  <thead>\n",
       "    <tr style=\"text-align: right;\">\n",
       "      <th></th>\n",
       "      <th>borough</th>\n",
       "      <th>time</th>\n",
       "      <th>NO_of_crimes</th>\n",
       "    </tr>\n",
       "  </thead>\n",
       "  <tbody>\n",
       "    <tr>\n",
       "      <th>2</th>\n",
       "      <td>BRONX</td>\n",
       "      <td>within30mins</td>\n",
       "      <td>108337</td>\n",
       "    </tr>\n",
       "    <tr>\n",
       "      <th>10</th>\n",
       "      <td>BRONX</td>\n",
       "      <td>within1hour</td>\n",
       "      <td>30100</td>\n",
       "    </tr>\n",
       "    <tr>\n",
       "      <th>13</th>\n",
       "      <td>BRONX</td>\n",
       "      <td>within1day</td>\n",
       "      <td>197423</td>\n",
       "    </tr>\n",
       "    <tr>\n",
       "      <th>4</th>\n",
       "      <td>BRONX</td>\n",
       "      <td>within10mins</td>\n",
       "      <td>308547</td>\n",
       "    </tr>\n",
       "    <tr>\n",
       "      <th>20</th>\n",
       "      <td>BRONX</td>\n",
       "      <td>over1day</td>\n",
       "      <td>56437</td>\n",
       "    </tr>\n",
       "  </tbody>\n",
       "</table>\n",
       "</div>"
      ],
      "text/plain": [
       "   borough           time  NO_of_crimes\n",
       "2    BRONX   within30mins        108337\n",
       "10   BRONX    within1hour         30100\n",
       "13   BRONX     within1day        197423\n",
       "4    BRONX   within10mins        308547\n",
       "20   BRONX       over1day         56437"
      ]
     },
     "execution_count": 122,
     "metadata": {},
     "output_type": "execute_result"
    }
   ],
   "source": [
    "bro =group_borough('BRONX').sort_values(by =['time'], ascending=False)\n",
    "bro"
   ]
  },
  {
   "cell_type": "code",
   "execution_count": 123,
   "metadata": {
    "collapsed": false
   },
   "outputs": [
    {
     "data": {
      "text/html": [
       "<div>\n",
       "<table border=\"1\" class=\"dataframe\">\n",
       "  <thead>\n",
       "    <tr style=\"text-align: right;\">\n",
       "      <th></th>\n",
       "      <th>borough</th>\n",
       "      <th>time</th>\n",
       "      <th>NO_of_crimes</th>\n",
       "    </tr>\n",
       "  </thead>\n",
       "  <tbody>\n",
       "    <tr>\n",
       "      <th>21</th>\n",
       "      <td>MANHATTAN</td>\n",
       "      <td>within30mins</td>\n",
       "      <td>149557</td>\n",
       "    </tr>\n",
       "    <tr>\n",
       "      <th>18</th>\n",
       "      <td>MANHATTAN</td>\n",
       "      <td>within1hour</td>\n",
       "      <td>45886</td>\n",
       "    </tr>\n",
       "    <tr>\n",
       "      <th>6</th>\n",
       "      <td>MANHATTAN</td>\n",
       "      <td>within1day</td>\n",
       "      <td>243202</td>\n",
       "    </tr>\n",
       "    <tr>\n",
       "      <th>23</th>\n",
       "      <td>MANHATTAN</td>\n",
       "      <td>within10mins</td>\n",
       "      <td>348208</td>\n",
       "    </tr>\n",
       "    <tr>\n",
       "      <th>14</th>\n",
       "      <td>MANHATTAN</td>\n",
       "      <td>over1day</td>\n",
       "      <td>80839</td>\n",
       "    </tr>\n",
       "  </tbody>\n",
       "</table>\n",
       "</div>"
      ],
      "text/plain": [
       "      borough           time  NO_of_crimes\n",
       "21  MANHATTAN   within30mins        149557\n",
       "18  MANHATTAN    within1hour         45886\n",
       "6   MANHATTAN     within1day        243202\n",
       "23  MANHATTAN   within10mins        348208\n",
       "14  MANHATTAN       over1day         80839"
      ]
     },
     "execution_count": 123,
     "metadata": {},
     "output_type": "execute_result"
    }
   ],
   "source": [
    "man =group_borough('MANHATTAN').sort_values(by =['time'], ascending=False)\n",
    "man"
   ]
  },
  {
   "cell_type": "code",
   "execution_count": 124,
   "metadata": {
    "collapsed": false
   },
   "outputs": [
    {
     "data": {
      "text/html": [
       "<div>\n",
       "<table border=\"1\" class=\"dataframe\">\n",
       "  <thead>\n",
       "    <tr style=\"text-align: right;\">\n",
       "      <th></th>\n",
       "      <th>borough</th>\n",
       "      <th>time</th>\n",
       "      <th>NO_of_crimes</th>\n",
       "    </tr>\n",
       "  </thead>\n",
       "  <tbody>\n",
       "    <tr>\n",
       "      <th>16</th>\n",
       "      <td>STATEN ISLAND</td>\n",
       "      <td>within30mins</td>\n",
       "      <td>27191</td>\n",
       "    </tr>\n",
       "    <tr>\n",
       "      <th>24</th>\n",
       "      <td>STATEN ISLAND</td>\n",
       "      <td>within1hour</td>\n",
       "      <td>7817</td>\n",
       "    </tr>\n",
       "    <tr>\n",
       "      <th>0</th>\n",
       "      <td>STATEN ISLAND</td>\n",
       "      <td>within1day</td>\n",
       "      <td>58029</td>\n",
       "    </tr>\n",
       "    <tr>\n",
       "      <th>17</th>\n",
       "      <td>STATEN ISLAND</td>\n",
       "      <td>within10mins</td>\n",
       "      <td>58418</td>\n",
       "    </tr>\n",
       "    <tr>\n",
       "      <th>8</th>\n",
       "      <td>STATEN ISLAND</td>\n",
       "      <td>over1day</td>\n",
       "      <td>17624</td>\n",
       "    </tr>\n",
       "  </tbody>\n",
       "</table>\n",
       "</div>"
      ],
      "text/plain": [
       "          borough           time  NO_of_crimes\n",
       "16  STATEN ISLAND   within30mins         27191\n",
       "24  STATEN ISLAND    within1hour          7817\n",
       "0   STATEN ISLAND     within1day         58029\n",
       "17  STATEN ISLAND   within10mins         58418\n",
       "8   STATEN ISLAND       over1day         17624"
      ]
     },
     "execution_count": 124,
     "metadata": {},
     "output_type": "execute_result"
    }
   ],
   "source": [
    "stan =group_borough('STATEN ISLAND').sort_values(by =['time'], ascending=False)\n",
    "stan\n"
   ]
  },
  {
   "cell_type": "code",
   "execution_count": 125,
   "metadata": {
    "collapsed": false
   },
   "outputs": [
    {
     "data": {
      "text/html": [
       "<div>\n",
       "<table border=\"1\" class=\"dataframe\">\n",
       "  <thead>\n",
       "    <tr style=\"text-align: right;\">\n",
       "      <th></th>\n",
       "      <th>borough</th>\n",
       "      <th>time</th>\n",
       "      <th>NO_of_crimes</th>\n",
       "    </tr>\n",
       "  </thead>\n",
       "  <tbody>\n",
       "    <tr>\n",
       "      <th>5</th>\n",
       "      <td>QUEENS</td>\n",
       "      <td>within30mins</td>\n",
       "      <td>125664</td>\n",
       "    </tr>\n",
       "    <tr>\n",
       "      <th>9</th>\n",
       "      <td>QUEENS</td>\n",
       "      <td>within1hour</td>\n",
       "      <td>35865</td>\n",
       "    </tr>\n",
       "    <tr>\n",
       "      <th>15</th>\n",
       "      <td>QUEENS</td>\n",
       "      <td>within1day</td>\n",
       "      <td>275746</td>\n",
       "    </tr>\n",
       "    <tr>\n",
       "      <th>7</th>\n",
       "      <td>QUEENS</td>\n",
       "      <td>within10mins</td>\n",
       "      <td>304841</td>\n",
       "    </tr>\n",
       "    <tr>\n",
       "      <th>22</th>\n",
       "      <td>QUEENS</td>\n",
       "      <td>over1day</td>\n",
       "      <td>73373</td>\n",
       "    </tr>\n",
       "  </tbody>\n",
       "</table>\n",
       "</div>"
      ],
      "text/plain": [
       "   borough           time  NO_of_crimes\n",
       "5   QUEENS   within30mins        125664\n",
       "9   QUEENS    within1hour         35865\n",
       "15  QUEENS     within1day        275746\n",
       "7   QUEENS   within10mins        304841\n",
       "22  QUEENS       over1day         73373"
      ]
     },
     "execution_count": 125,
     "metadata": {},
     "output_type": "execute_result"
    }
   ],
   "source": [
    "queen =group_borough('QUEENS').sort_values(by =['time'], ascending=False)\n",
    "queen\n"
   ]
  },
  {
   "cell_type": "code",
   "execution_count": 126,
   "metadata": {
    "collapsed": false
   },
   "outputs": [
    {
     "data": {
      "text/plain": [
       "[' within30mins', ' within1hour', ' within1day', ' within10mins', ' over1day']"
      ]
     },
     "execution_count": 126,
     "metadata": {},
     "output_type": "execute_result"
    }
   ],
   "source": [
    "brooklyn =group_borough('BROOKLYN').sort_values(by =['time'], ascending=False)\n",
    "list(brooklyn[brooklyn.columns[1]])\n"
   ]
  },
  {
   "cell_type": "code",
   "execution_count": 127,
   "metadata": {
    "collapsed": false
   },
   "outputs": [
    {
     "data": {
      "text/html": [
       "<iframe id=\"igraph\" scrolling=\"no\" style=\"border:none;\" seamless=\"seamless\" src=\"https://plot.ly/~sherryyang0127/58.embed\" height=\"525px\" width=\"100%\"></iframe>"
      ],
      "text/plain": [
       "<plotly.tools.PlotlyDisplay object>"
      ]
     },
     "execution_count": 127,
     "metadata": {},
     "output_type": "execute_result"
    }
   ],
   "source": [
    "import plotly.plotly as py\n",
    "import plotly.graph_objs as go\n",
    "\n",
    "trace1 = go.Bar(\n",
    "    x=list(brooklyn[brooklyn.columns[1]]),\n",
    "    y=list(brooklyn[brooklyn.columns[2]]),\n",
    "    name='BROOKLYN'\n",
    ")\n",
    "trace2 = go.Bar(\n",
    "    x=list(man[man.columns[1]]),\n",
    "    y=list(man[man.columns[2]]),\n",
    "    name='MANHATTAN'\n",
    ")\n",
    "trace3 = go.Bar(\n",
    "    x=list(bro[bro.columns[1]]),\n",
    "    y=list(bro[bro.columns[2]]),\n",
    "    name='BRONX'\n",
    ")\n",
    "trace4 = go.Bar(\n",
    "    x=list(stan[stan.columns[1]]),\n",
    "    y=list(stan[stan.columns[2]]),\n",
    "    name='STATEN ISLAND'\n",
    ")\n",
    "trace5 = go.Bar(\n",
    "    x=list(queen[queen.columns[1]]),\n",
    "    y=list(queen[queen.columns[2]]),\n",
    "    name='QUEENS'\n",
    ")\n",
    "\n",
    "data = [trace1, trace2,trace3,trace4,trace5]\n",
    "layout = go.Layout(\n",
    "    barmode='stack'\n",
    ")\n",
    "\n",
    "fig = go.Figure(data=data, layout=layout)\n",
    "py.iplot(fig, filename='stacked-bar')"
   ]
  },
  {
   "cell_type": "code",
   "execution_count": 203,
   "metadata": {
    "collapsed": false
   },
   "outputs": [
    {
     "name": "stderr",
     "output_type": "stream",
     "text": [
      "C:\\Users\\sherryyang\\Anaconda3\\lib\\site-packages\\ipykernel\\__main__.py:2: FutureWarning:\n",
      "\n",
      "sort(columns=....) is deprecated, use sort_values(by=.....)\n",
      "\n"
     ]
    },
    {
     "data": {
      "text/plain": [
       "['STREET',\n",
       " 'RESIDENCE - APT. HOUSE',\n",
       " 'RESIDENCE-HOUSE',\n",
       " 'RESIDENCE - PUBLIC HOUSING',\n",
       " 'OTHER']"
      ]
     },
     "execution_count": 203,
     "metadata": {},
     "output_type": "execute_result"
    }
   ],
   "source": [
    "data61 = pd.read_csv(\"r61.out\", sep =\"\\t\", header =None, names =['Prem_type', \"No_of_Crimes\"])\n",
    "data61 =data61.sort(['No_of_Crimes'],ascending =False)\n",
    "\n",
    "data61 = data61[:5]\n",
    "list(data61[data61.columns[0]])\n"
   ]
  },
  {
   "cell_type": "code",
   "execution_count": 237,
   "metadata": {
    "collapsed": false
   },
   "outputs": [],
   "source": [
    "data62 = pd.read_csv(\"r62.out\", sep =\",\", header =None, names =['Prem_type','Offense',\"No_of_Crimes\", \"no\"])\n",
    "#data62[data62.columns[0]].unique()\n",
    "#data62[data62.columns[0]].unique()\n",
    "data62 = data62[data62['No_of_Crimes'] !='UNCLASSIFIE']\n",
    "data62 = data62[data62['No_of_Crimes'] !=\" DIC\"]\n",
    "data62['No_of_Crimes'] = data62['No_of_Crimes'].astype(int).fillna(0)\n",
    "#data62.sort(['No_of_Crimes'], ascending=False)"
   ]
  },
  {
   "cell_type": "code",
   "execution_count": 238,
   "metadata": {
    "collapsed": true
   },
   "outputs": [],
   "source": [
    "def group_type(otype):\n",
    "    data211 =data62.groupby(['Prem_type'])\n",
    "    data211 =data211.get_group(otype)\n",
    "    return data211"
   ]
  },
  {
   "cell_type": "code",
   "execution_count": 258,
   "metadata": {
    "collapsed": false
   },
   "outputs": [
    {
     "name": "stderr",
     "output_type": "stream",
     "text": [
      "C:\\Users\\sherryyang\\Anaconda3\\lib\\site-packages\\ipykernel\\__main__.py:2: FutureWarning:\n",
      "\n",
      "sort(columns=....) is deprecated, use sort_values(by=.....)\n",
      "\n"
     ]
    }
   ],
   "source": [
    "other =group_type('OTHER')\n",
    "other = other.sort(['No_of_Crimes'], ascending=False)\n",
    "other =other[:10]"
   ]
  },
  {
   "cell_type": "code",
   "execution_count": 259,
   "metadata": {
    "collapsed": false
   },
   "outputs": [
    {
     "name": "stderr",
     "output_type": "stream",
     "text": [
      "C:\\Users\\sherryyang\\Anaconda3\\lib\\site-packages\\ipykernel\\__main__.py:2: FutureWarning:\n",
      "\n",
      "sort(columns=....) is deprecated, use sort_values(by=.....)\n",
      "\n"
     ]
    }
   ],
   "source": [
    "street =group_type('STREET')\n",
    "street = street.sort(['No_of_Crimes'], ascending=False)\n",
    "street =street[:10]"
   ]
  },
  {
   "cell_type": "code",
   "execution_count": 262,
   "metadata": {
    "collapsed": false
   },
   "outputs": [
    {
     "name": "stderr",
     "output_type": "stream",
     "text": [
      "C:\\Users\\sherryyang\\Anaconda3\\lib\\site-packages\\ipykernel\\__main__.py:2: FutureWarning:\n",
      "\n",
      "sort(columns=....) is deprecated, use sort_values(by=.....)\n",
      "\n"
     ]
    }
   ],
   "source": [
    "apthouse =group_type('RESIDENCE - APT. HOUSE')\n",
    "apthouse = apthouse.sort(['No_of_Crimes'], ascending=False)\n",
    "apthouse =apthouse[:10]"
   ]
  },
  {
   "cell_type": "code",
   "execution_count": 263,
   "metadata": {
    "collapsed": false
   },
   "outputs": [
    {
     "name": "stderr",
     "output_type": "stream",
     "text": [
      "C:\\Users\\sherryyang\\Anaconda3\\lib\\site-packages\\ipykernel\\__main__.py:2: FutureWarning:\n",
      "\n",
      "sort(columns=....) is deprecated, use sort_values(by=.....)\n",
      "\n"
     ]
    }
   ],
   "source": [
    "house =group_type('RESIDENCE-HOUSE')\n",
    "house = house.sort(['No_of_Crimes'], ascending=False)\n",
    "house =house[:10]\n"
   ]
  },
  {
   "cell_type": "code",
   "execution_count": 264,
   "metadata": {
    "collapsed": false
   },
   "outputs": [
    {
     "name": "stderr",
     "output_type": "stream",
     "text": [
      "C:\\Users\\sherryyang\\Anaconda3\\lib\\site-packages\\ipykernel\\__main__.py:3: FutureWarning:\n",
      "\n",
      "sort(columns=....) is deprecated, use sort_values(by=.....)\n",
      "\n"
     ]
    }
   ],
   "source": [
    "\n",
    "public =group_type('RESIDENCE - PUBLIC HOUSING')\n",
    "public= public.sort(['No_of_Crimes'], ascending=False)\n",
    "public = public[:10]"
   ]
  },
  {
   "cell_type": "code",
   "execution_count": 307,
   "metadata": {
    "collapsed": false
   },
   "outputs": [
    {
     "data": {
      "image/png": "[encoded data removed]",
      "text/plain": [
       "<matplotlib.figure.Figure at 0x1b023d03320>"
      ]
     },
     "metadata": {},
     "output_type": "display_data"
    }
   ],
   "source": [
    "import matplotlib.pyplot as plt\n",
    " \n",
    "# Data to plot\n",
    "\n",
    "labels =tuple(public[public.columns[1]])\n",
    "sizes = list(public[public.columns[2]])\n",
    "colors = ['gold','red', 'yellowgreen', 'lightcoral', 'lightskyblue','green', 'purple','orange','pink','gray']\n",
    "explode = (0.1, 0, 0, 0,0,0,0,0,0,0)  # explode 1st slice\n",
    " \n",
    "# Plot\n",
    "plt.pie(sizes, explode=explode, labels=labels, colors=colors,\n",
    "        autopct='%1.1f%%', shadow=True, startangle=140)\n",
    " \n",
    "plt.axis('equal')\n",
    "plt.title('Percent of OFNS_DESC  by'+  ' RESIDENCE - PUBLIC HOUSING')\n",
    "plt.show()"
   ]
  },
  {
   "cell_type": "code",
   "execution_count": 304,
   "metadata": {
    "collapsed": false
   },
   "outputs": [
    {
     "data": {
      "image/png": "[encoded data removed]",
      "text/plain": [
       "<matplotlib.figure.Figure at 0x1b025271a58>"
      ]
     },
     "metadata": {},
     "output_type": "display_data"
    }
   ],
   "source": [
    "import matplotlib.pyplot as plt\n",
    " \n",
    "# Data to plot\n",
    "\n",
    "labels =tuple(house[house.columns[1]])\n",
    "sizes = list(house[house.columns[2]])\n",
    "colors = ['gold','red', 'yellowgreen', 'lightcoral', 'lightskyblue','green', 'purple','orange','pink','gray']\n",
    "explode = (0.1, 0, 0, 0,0,0,0,0,0,0)  # explode 1st slice\n",
    " \n",
    "# Plot\n",
    "plt.pie(sizes, explode=explode, labels=labels, colors=colors,\n",
    "        autopct='%1.1f%%', shadow=True, startangle=140)\n",
    " \n",
    "plt.axis('equal')\n",
    "plt.title('Percent of OFNS_DESC  by'+  ' RESIDENCE - HOUSE')\n",
    "plt.show()"
   ]
  },
  {
   "cell_type": "code",
   "execution_count": 303,
   "metadata": {
    "collapsed": false
   },
   "outputs": [
    {
     "data": {
      "image/png": "[encoded data removed]",
      "text/plain": [
       "<matplotlib.figure.Figure at 0x1b0252039e8>"
      ]
     },
     "metadata": {},
     "output_type": "display_data"
    }
   ],
   "source": [
    "import matplotlib.pyplot as plt\n",
    " \n",
    "# Data to plot\n",
    "\n",
    "labels =tuple(street[street.columns[1]])\n",
    "sizes = list(street[street.columns[2]])\n",
    "colors = ['gold','red', 'yellowgreen', 'lightcoral', 'lightskyblue','green', 'purple','orange','pink','gray']\n",
    "explode = (0.1, 0, 0, 0,0,0,0,0,0,0)  # explode 1st slice\n",
    " \n",
    "# Plot\n",
    "plt.pie(sizes, explode=explode, labels=labels, colors=colors,\n",
    "        autopct='%1.1f%%', shadow=True, startangle=140)\n",
    " \n",
    "plt.axis('equal')\n",
    "plt.title('Percent of OFNS_DESC  by'+  ' STREET')\n",
    "plt.show()"
   ]
  },
  {
   "cell_type": "code",
   "execution_count": 305,
   "metadata": {
    "collapsed": false
   },
   "outputs": [
    {
     "data": {
      "image/png": "[encoded data removed]",
      "text/plain": [
       "<matplotlib.figure.Figure at 0x1b023d534a8>"
      ]
     },
     "metadata": {},
     "output_type": "display_data"
    }
   ],
   "source": [
    "import matplotlib.pyplot as plt\n",
    " \n",
    "# Data to plot\n",
    "\n",
    "labels =tuple(apthouse[apthouse.columns[1]])\n",
    "sizes = list(apthouse[apthouse.columns[2]])\n",
    "colors = ['gold','red', 'yellowgreen', 'lightcoral', 'lightskyblue','green', 'purple','orange','pink','gray']\n",
    "explode = (0.1, 0, 0, 0,0,0,0,0,0,0)  # explode 1st slice\n",
    " \n",
    "# Plot\n",
    "plt.pie(sizes, explode=explode, labels=labels, colors=colors,\n",
    "        autopct='%1.1f%%', shadow=True, startangle=140)\n",
    " \n",
    "plt.axis('equal')\n",
    "plt.title('Percent of OFNS_DESC  by'+  ' RESIDENCE - APT. HOUSE')\n",
    "plt.show()"
   ]
  },
  {
   "cell_type": "code",
   "execution_count": 306,
   "metadata": {
    "collapsed": false
   },
   "outputs": [
    {
     "data": {
      "image/png": "[encoded data removed]",
      "text/plain": [
       "<matplotlib.figure.Figure at 0x1b024066f60>"
      ]
     },
     "metadata": {},
     "output_type": "display_data"
    }
   ],
   "source": [
    "import matplotlib.pyplot as plt\n",
    " \n",
    "# Data to plot\n",
    "\n",
    "labels =tuple(other[other.columns[1]])\n",
    "sizes = list(other[other.columns[2]])\n",
    "colors = ['gold','red', 'yellowgreen', 'lightcoral', 'lightskyblue','green', 'purple','orange','pink','gray']\n",
    "explode = (0.1, 0, 0, 0,0,0,0,0,0,0)  # explode 1st slice\n",
    " \n",
    "# Plot\n",
    "plt.pie(sizes, explode=explode, labels=labels, colors=colors,\n",
    "        autopct='%1.1f%%', shadow=True, startangle=140)\n",
    " \n",
    "plt.axis('equal')\n",
    "plt.title('Percent of OFNS_DESC  by'+  ' OTHER')\n",
    "plt.show()"
   ]
  }
 ],
 "metadata": {
  "kernelspec": {
   "display_name": "Python 3",
   "language": "python",
   "name": "python3"
  },
  "language_info": {
   "codemirror_mode": {
    "name": "ipython",
    "version": 3
   },
   "file_extension": ".py",
   "mimetype": "text/x-python",
   "name": "python",
   "nbconvert_exporter": "python",
   "pygments_lexer": "ipython3",
   "version": "3.6.0"
  }
 },
 "nbformat": 4,
 "nbformat_minor": 2
}
